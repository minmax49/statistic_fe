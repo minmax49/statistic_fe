{
 "cells": [
  {
   "cell_type": "markdown",
   "metadata": {},
   "source": [
    "Trong quá trình hoạt động của doanh nghiệp, việc đánh giá nhân viên luôn rất quan trọng. Nhà quản trị luôn cần nắm được đâu là nhân viên tốt, đâu là nhân viên kém, từ đó đưa ra các quyết định về nhân sự hợp lý. Hôm nay mình giới thiệu một task mà mình được giao về đánh giá kết quả hoạt động nhân viên. \n",
    "\n",
    "\n",
    "Dữ liệu mình lọc ra gồm kêt quả của mỗi nhân viên trong tháng liên tiếp, biến outcome chính là kết quả của tháng tiếp theo. Các giá trị có dạng int và nằm trong khoảng [1,5] \n",
    "\n",
    "Bài toán: chúng ta dự đoán xem kết quả kinh doanh tháng tiếp theo của nhân viên đó sẽ ra sao, trong bài này mình đặc biệt quan tâm đến giá trị outcome bằng 5, chúng ta cần tìm ra các đối tượng này\n"
   ]
  },
  {
   "cell_type": "code",
   "execution_count": 386,
   "metadata": {},
   "outputs": [],
   "source": [
    "import numpy as np\n",
    "import pandas as pd\n",
    "import seaborn as sns\n",
    "import matplotlib.pyplot as plt \n",
    "import warnings\n",
    "warnings.filterwarnings('ignore')"
   ]
  },
  {
   "cell_type": "markdown",
   "metadata": {},
   "source": [
    "https://github.com/parrt/dtreeviz/blob/master/notebooks/colors.ipynb"
   ]
  },
  {
   "cell_type": "code",
   "execution_count": 387,
   "metadata": {},
   "outputs": [
    {
     "data": {
      "text/html": [
       "<div>\n",
       "<style scoped>\n",
       "    .dataframe tbody tr th:only-of-type {\n",
       "        vertical-align: middle;\n",
       "    }\n",
       "\n",
       "    .dataframe tbody tr th {\n",
       "        vertical-align: top;\n",
       "    }\n",
       "\n",
       "    .dataframe thead th {\n",
       "        text-align: right;\n",
       "    }\n",
       "</style>\n",
       "<table border=\"1\" class=\"dataframe\">\n",
       "  <thead>\n",
       "    <tr style=\"text-align: right;\">\n",
       "      <th></th>\n",
       "      <th>MONTH</th>\n",
       "      <th>UNIT_CODE_DESC</th>\n",
       "      <th>QUINTILE</th>\n",
       "    </tr>\n",
       "  </thead>\n",
       "  <tbody>\n",
       "    <tr>\n",
       "      <th>0</th>\n",
       "      <td>2019/05</td>\n",
       "      <td>EF00101-EF00101-Nguyễn Văn Quân</td>\n",
       "      <td>5.0</td>\n",
       "    </tr>\n",
       "    <tr>\n",
       "      <th>1</th>\n",
       "      <td>2019/05</td>\n",
       "      <td>FC0036-FC0036 - Lê Ngọc Duy</td>\n",
       "      <td>4.0</td>\n",
       "    </tr>\n",
       "    <tr>\n",
       "      <th>2</th>\n",
       "      <td>2019/05</td>\n",
       "      <td>FC0337-FC0337-Từ Kiện Tuấn</td>\n",
       "      <td>3.0</td>\n",
       "    </tr>\n",
       "    <tr>\n",
       "      <th>3</th>\n",
       "      <td>2019/05</td>\n",
       "      <td>FC0211-FC0211-Nguyễn Hải Đăng</td>\n",
       "      <td>NaN</td>\n",
       "    </tr>\n",
       "    <tr>\n",
       "      <th>4</th>\n",
       "      <td>2019/05</td>\n",
       "      <td>FC0295-FC0295-Nguyễn Duy Linh</td>\n",
       "      <td>4.0</td>\n",
       "    </tr>\n",
       "  </tbody>\n",
       "</table>\n",
       "</div>"
      ],
      "text/plain": [
       "     MONTH                   UNIT_CODE_DESC  QUINTILE\n",
       "0  2019/05  EF00101-EF00101-Nguyễn Văn Quân       5.0\n",
       "1  2019/05      FC0036-FC0036 - Lê Ngọc Duy       4.0\n",
       "2  2019/05       FC0337-FC0337-Từ Kiện Tuấn       3.0\n",
       "3  2019/05    FC0211-FC0211-Nguyễn Hải Đăng       NaN\n",
       "4  2019/05    FC0295-FC0295-Nguyễn Duy Linh       4.0"
      ]
     },
     "execution_count": 387,
     "metadata": {},
     "output_type": "execute_result"
    }
   ],
   "source": [
    "df = pd.read_csv('data_q.csv')\n",
    "df.head()"
   ]
  },
  {
   "cell_type": "code",
   "execution_count": 388,
   "metadata": {},
   "outputs": [
    {
     "name": "stdout",
     "output_type": "stream",
     "text": [
      "   t-2  t-1  t-0  outcome\n",
      "0  5.0  5.0  4.0      5.0\n",
      "1  3.0  5.0  2.0      4.0\n",
      "2  1.0  1.0  3.0      4.0\n",
      "3  5.0  4.0  2.0      5.0\n",
      "4  5.0  4.0  1.0      5.0\n"
     ]
    }
   ],
   "source": [
    "shapex = 3\n",
    "shapey = 1\n",
    "quit = 6\n",
    "num_month = shapex + shapey\n",
    "\n",
    "# get month frame\n",
    "data = pd.DataFrame()\n",
    "for i in range(num_month, len(df.MONTH.unique())+1):\n",
    "    months = df.MONTH.unique()[i-num_month:i]\n",
    "    outmonths = months[-shapey:]\n",
    "    # select exist 'UNIT_CODE_DESC'\n",
    "    months_df = [df[df.MONTH == months[i]]['UNIT_CODE_DESC'].tolist() for i in range(shapex-1)] \n",
    "    for i, x in enumerate(months_df):\n",
    "        if i == 0:\n",
    "            fc_list = list(set(x)) \n",
    "        else: \n",
    "            fc_list = list(set(fc_list) & set(x))\n",
    "    for i,month in enumerate(months):\n",
    "        dt_temp = df[df.MONTH == month][['UNIT_CODE_DESC','QUINTILE']]\n",
    "        dt_temp.set_index('UNIT_CODE_DESC', inplace=True)\n",
    "        col_name = f'QUINTILE_{i}'\n",
    "        dt_temp.columns = [month]\n",
    "        if i == 0:\n",
    "            df_temp = dt_temp\n",
    "        else:\n",
    "            df_temp = pd.concat([df_temp, dt_temp], axis=1, sort=True)      \n",
    "    df_temp.dropna(subset=months[:shapex], inplace=True)\n",
    "    df_temp['outcome'] = df_temp.loc[:, outmonths].mean(axis=1)\n",
    "    df_temp.drop(outmonths, axis=1, inplace=True)\n",
    "    df_temp.columns = [f't-{i}' for i in range(shapex-1, -1, -1)]+['outcome']\n",
    "    data = data.append(df_temp)\n",
    "data.reset_index(drop=True, inplace=True)\n",
    "#print(data.shape)\n",
    "data.dropna(inplace=True)\n",
    "print(data.head(5))"
   ]
  },
  {
   "cell_type": "code",
   "execution_count": 389,
   "metadata": {},
   "outputs": [
    {
     "data": {
      "text/plain": [
       "t-2        0\n",
       "t-1        0\n",
       "t-0        0\n",
       "outcome    0\n",
       "dtype: int64"
      ]
     },
     "execution_count": 389,
     "metadata": {},
     "output_type": "execute_result"
    }
   ],
   "source": [
    "data.isna().sum()"
   ]
  },
  {
   "cell_type": "code",
   "execution_count": 390,
   "metadata": {},
   "outputs": [
    {
     "data": {
      "text/plain": [
       "1.0    2363\n",
       "2.0    2172\n",
       "3.0    2016\n",
       "4.0    1777\n",
       "5.0    1516\n",
       "Name: outcome, dtype: int64"
      ]
     },
     "execution_count": 390,
     "metadata": {},
     "output_type": "execute_result"
    }
   ],
   "source": [
    "pd.value_counts(data['outcome'])"
   ]
  },
  {
   "cell_type": "markdown",
   "metadata": {},
   "source": [
    "### Xem xác xuất chuyển trạng thái của dữ liệu:"
   ]
  },
  {
   "cell_type": "code",
   "execution_count": 391,
   "metadata": {},
   "outputs": [
    {
     "data": {
      "image/png": "[encoded data removed]",
      "text/plain": [
       "<Figure size 600x400 with 2 Axes>"
      ]
     },
     "metadata": {
      "needs_background": "light"
     },
     "output_type": "display_data"
    }
   ],
   "source": [
    "compare=1\n",
    "gr0 = data.groupby(['outcome',data.columns[-1-compare]]).agg(len)['t-2']\n",
    "gr1 = data.groupby(['outcome']).agg(len)['t-2']\n",
    "gr = gr0/gr1\n",
    "cr = pd.concat([pd.DataFrame(gr.loc[i]).T for i in range(1,6)], axis=0).values.round(2)\n",
    "cr_df = pd.DataFrame(cr)\n",
    "cr_df.columns = range(1,6)\n",
    "cr_df.index = range(1,6)\n",
    "\n",
    "fig, ax = plt.subplots(dpi=100)\n",
    "sns.heatmap(cr, fmt='', annot=True, cmap=sns.color_palette(\"RdBu_r\", 5), ax=ax)\n",
    "ax.set_xticklabels(range(1,6))\n",
    "ax.set_yticklabels(range(1,6))\n",
    "ax.set_ylabel('(t-1)')\n",
    "ax.set_xlabel('(t)')\n",
    "plt.title('xác xuất thay đổi trạng thái')\n",
    "plt.show()"
   ]
  },
  {
   "cell_type": "code",
   "execution_count": 392,
   "metadata": {},
   "outputs": [
    {
     "data": {
      "image/png": "[encoded data removed]",
      "text/plain": [
       "<Figure size 920x500 with 1 Axes>"
      ]
     },
     "metadata": {
      "needs_background": "light"
     },
     "output_type": "display_data"
    },
    {
     "data": {
      "text/plain": [
       "(<Figure size 920x500 with 1 Axes>,\n",
       " <matplotlib.axes._subplots.AxesSubplot at 0x7fa04df746d0>)"
      ]
     },
     "execution_count": 392,
     "metadata": {},
     "output_type": "execute_result"
    }
   ],
   "source": [
    "def survey(data, compare=1):\n",
    "    ggr0 = data.groupby(['outcome',data.columns[-1-compare]]).agg(len)['t-2']\n",
    "    gr1 = data.groupby(['outcome']).agg(len)['t-2']\n",
    "    gr = gr0/gr1\n",
    "    #gr = gr.T\n",
    "    category_names = ['Q1 (t-1)', 'Q2 (t-1)',\n",
    "                      'Q3 (t-1)', 'Q4 (t-1)', 'Q5 (t-1)']\n",
    "    results = {\n",
    "        'Q1': gr.loc[1],\n",
    "        'Q2': gr.loc[2],\n",
    "        'Q3': gr.loc[3],\n",
    "        'Q4': gr.loc[4],\n",
    "        'Q5': gr.loc[5],\n",
    "    }\n",
    "    labels = list(results.keys())\n",
    "    data = np.array(list(results.values()))\n",
    "    data_cum = data.cumsum(axis=1)\n",
    "    category_colors = plt.get_cmap('RdBu_r')(\n",
    "        np.linspace(0.15, 0.85, data.shape[1]))\n",
    "\n",
    "    fig, ax = plt.subplots(figsize=(9.2, 5), dpi=100)\n",
    "    ax.invert_yaxis()\n",
    "    ax.xaxis.set_visible(False)\n",
    "    ax.set_xlim(0, np.sum(data, axis=1).max())\n",
    "\n",
    "    for i, (colname, color) in enumerate(zip(category_names, category_colors)):\n",
    "        widths = data[:, i]\n",
    "        starts = data_cum[:, i] - widths\n",
    "        ax.barh(labels, widths, left=starts, height=0.5,\n",
    "                label=colname, color=color)\n",
    "        xcenters = starts + widths / 2\n",
    "        r, g, b, _ = color\n",
    "        text_color = 'white' if r * g * b < 0.3 else 'black'\n",
    "        for y, (x, c) in enumerate(zip(xcenters, widths)):\n",
    "            ax.text(x, y, str(round(c*100, 2))+'%', ha='center', va='center',\n",
    "                    color=text_color, fontsize=6, fontweight='bold')\n",
    "    ax.legend(ncol=len(category_names), bbox_to_anchor=(0, 1),\n",
    "              loc='lower left', fontsize='small')\n",
    "    #plt.title(f'Q Last {compare} month')\n",
    "    ax.set_ylabel('t-1')\n",
    "    plt.show()\n",
    "    \n",
    "    return fig, ax\n",
    "\n",
    "survey(data,compare=1)"
   ]
  },
  {
   "cell_type": "markdown",
   "metadata": {},
   "source": [
    "Với bài toán này chúng ta có thể dùng cả hai phương pháp Classification và regression để giải quyết. \n",
    "\n",
    "và để dễ trình bày mình sẽ trọn 2 phương pháp :\n",
    " - DecisionTreeClassifier\n",
    " - DecisionTreeRegressor\n",
    "\n",
    "Với DecisionTreeClassifier mình sẽ thay đổi biến outcome với các giá trị mục tiêu 5 sẽ đổi thành 1, còn lại là 0 đề đồ thị không quá rối và đạt đươc mục tiêu của bài toán\n",
    "\n",
    "kết quả cũng khá dễ đọc khi ta vẽ tree ra"
   ]
  },
  {
   "cell_type": "code",
   "execution_count": 361,
   "metadata": {},
   "outputs": [],
   "source": [
    "from dtreeviz.trees import *\n",
    "from sklearn.datasets import *\n",
    "%config InlineBackend.figure_format = 'png'"
   ]
  },
  {
   "cell_type": "code",
   "execution_count": 372,
   "metadata": {},
   "outputs": [],
   "source": [
    "X = data.drop(['outcome'],axis=1).values\n",
    "y = np.array([0 if yi < 5 else 1 for yi in data.outcome.tolist()])\n",
    "\n",
    "classifier = tree.DecisionTreeClassifier(max_depth=3)  # limit depth of tree\n",
    "classifier.fit(X, y)\n",
    "viz = dtreeviz(classifier, \n",
    "               X, \n",
    "               y,\n",
    "               target_name='state',\n",
    "               orientation ='LR',\n",
    "               feature_names=list(data.drop(['outcome'],axis=1).columns), \n",
    "               class_names=['non_taget', 'taret'],\n",
    "               #show_node_labels=True,\n",
    "               #show_just_path=True,\n",
    "               #precision=1,\n",
    "              )                \n",
    "viz.view()"
   ]
  },
  {
   "cell_type": "code",
   "execution_count": 373,
   "metadata": {},
   "outputs": [],
   "source": [
    "data.fillna(6, inplace=True)\n",
    "X = data.drop(['outcome'],axis=1).values\n",
    "y = data['outcome'].values\n",
    "regr = tree.DecisionTreeRegressor(max_depth=3)\n",
    "regr.fit(X, y)\n",
    "viz = dtreeviz(regr, \n",
    "               X, \n",
    "               y,\n",
    "               target_name='state',\n",
    "               orientation ='LR',\n",
    "               feature_names=['t-3','t-2','t-1'], \n",
    "               #class_names=['non_Bad', 'Bad'],\n",
    "               #show_node_labels=True,\n",
    "               #show_just_path=True,\n",
    "               #precision=1,\n",
    "              )                \n",
    "viz.view() "
   ]
  },
  {
   "cell_type": "markdown",
   "metadata": {},
   "source": [
    "Sau khi dự đoán được kết quả kinh doanh của nhân viên. Nhà quản trị có thể đưa ra nhiều quyết định kịp thời như khen thưởng các nhân viên xuất xắc hay cắt giảm các nhân viên yếu kém. "
   ]
  },
  {
   "cell_type": "markdown",
   "metadata": {},
   "source": [
    "# HMC\n",
    "\n",
    "http://www.blackarbs.com/blog/introduction-hidden-markov-models-python-networkx-sklearn/2/9/2017"
   ]
  },
  {
   "cell_type": "code",
   "execution_count": 314,
   "metadata": {},
   "outputs": [
    {
     "name": "stdout",
     "output_type": "stream",
     "text": [
      "sleeping    0.35\n",
      "eating      0.35\n",
      "pooping     0.30\n",
      "Name: states, dtype: float64\n",
      "1.0\n"
     ]
    }
   ],
   "source": [
    "import numpy as np\n",
    "import pandas as pd\n",
    "import networkx as nx\n",
    "import matplotlib.pyplot as plt\n",
    "%matplotlib inline\n",
    "\n",
    "# create state space and initial state probabilities\n",
    "\n",
    "states = ['sleeping', 'eating', 'pooping']\n",
    "pi = [0.35, 0.35, 0.3]\n",
    "state_space = pd.Series(pi, index=states, name='states')\n",
    "print(state_space)\n",
    "print(state_space.sum())\n"
   ]
  },
  {
   "cell_type": "code",
   "execution_count": 315,
   "metadata": {},
   "outputs": [
    {
     "data": {
      "text/html": [
       "<div>\n",
       "<style scoped>\n",
       "    .dataframe tbody tr th:only-of-type {\n",
       "        vertical-align: middle;\n",
       "    }\n",
       "\n",
       "    .dataframe tbody tr th {\n",
       "        vertical-align: top;\n",
       "    }\n",
       "\n",
       "    .dataframe thead th {\n",
       "        text-align: right;\n",
       "    }\n",
       "</style>\n",
       "<table border=\"1\" class=\"dataframe\">\n",
       "  <thead>\n",
       "    <tr style=\"text-align: right;\">\n",
       "      <th></th>\n",
       "      <th>1</th>\n",
       "      <th>2</th>\n",
       "      <th>3</th>\n",
       "      <th>4</th>\n",
       "      <th>5</th>\n",
       "    </tr>\n",
       "  </thead>\n",
       "  <tbody>\n",
       "    <tr>\n",
       "      <th>1</th>\n",
       "      <td>0.52</td>\n",
       "      <td>0.24</td>\n",
       "      <td>0.13</td>\n",
       "      <td>0.07</td>\n",
       "      <td>0.04</td>\n",
       "    </tr>\n",
       "    <tr>\n",
       "      <th>2</th>\n",
       "      <td>0.25</td>\n",
       "      <td>0.30</td>\n",
       "      <td>0.22</td>\n",
       "      <td>0.15</td>\n",
       "      <td>0.08</td>\n",
       "    </tr>\n",
       "    <tr>\n",
       "      <th>3</th>\n",
       "      <td>0.15</td>\n",
       "      <td>0.25</td>\n",
       "      <td>0.23</td>\n",
       "      <td>0.22</td>\n",
       "      <td>0.15</td>\n",
       "    </tr>\n",
       "    <tr>\n",
       "      <th>4</th>\n",
       "      <td>0.10</td>\n",
       "      <td>0.18</td>\n",
       "      <td>0.26</td>\n",
       "      <td>0.26</td>\n",
       "      <td>0.20</td>\n",
       "    </tr>\n",
       "    <tr>\n",
       "      <th>5</th>\n",
       "      <td>0.07</td>\n",
       "      <td>0.13</td>\n",
       "      <td>0.21</td>\n",
       "      <td>0.27</td>\n",
       "      <td>0.31</td>\n",
       "    </tr>\n",
       "  </tbody>\n",
       "</table>\n",
       "</div>"
      ],
      "text/plain": [
       "      1     2     3     4     5\n",
       "1  0.52  0.24  0.13  0.07  0.04\n",
       "2  0.25  0.30  0.22  0.15  0.08\n",
       "3  0.15  0.25  0.23  0.22  0.15\n",
       "4  0.10  0.18  0.26  0.26  0.20\n",
       "5  0.07  0.13  0.21  0.27  0.31"
      ]
     },
     "execution_count": 315,
     "metadata": {},
     "output_type": "execute_result"
    }
   ],
   "source": [
    "compare=1\n",
    "gr0 = data.groupby(['outcome',data.columns[-1-compare]]).agg(len)['t_2']\n",
    "gr1 = data.groupby(['outcome']).agg(len)['t_2']\n",
    "gr = gr0/gr1\n",
    "cr = pd.concat([pd.DataFrame(gr.loc[i]).T for i in range(1,6)], axis=0).values.round(2)\n",
    "cr\n",
    "cr_df = pd.DataFrame(cr)\n",
    "cr_df.columns = range(1,6)\n",
    "cr_df.index = range(1,6)\n",
    "cr_df"
   ]
  },
  {
   "cell_type": "code",
   "execution_count": 290,
   "metadata": {},
   "outputs": [
    {
     "name": "stdout",
     "output_type": "stream",
     "text": [
      "{(1, 4): 0.07, (2, 4): 0.15, (3, 4): 0.22, (4, 4): 0.26, (5, 4): 0.27, (1, 5): 0.04, (2, 5): 0.08, (3, 5): 0.15, (4, 5): 0.2, (5, 5): 0.31}\n"
     ]
    }
   ],
   "source": [
    "from pprint import pprint \n",
    "\n",
    "# create a function that maps transition probability dataframe \n",
    "# to markov edges and weights\n",
    "\n",
    "def _get_markov_edges(Q):\n",
    "    edges = {}\n",
    "    for col in Q.columns:\n",
    "        if col in [4,5]:\n",
    "            for idx in Q.index:\n",
    "                edges[(idx,col)] = Q.loc[idx,col]\n",
    "    return edges\n",
    "\n",
    "edges_wts = _get_markov_edges(cr_df)\n",
    "print(edges_wts)"
   ]
  },
  {
   "cell_type": "code",
   "execution_count": 288,
   "metadata": {},
   "outputs": [
    {
     "data": {
      "text/html": [
       "<div>\n",
       "<style scoped>\n",
       "    .dataframe tbody tr th:only-of-type {\n",
       "        vertical-align: middle;\n",
       "    }\n",
       "\n",
       "    .dataframe tbody tr th {\n",
       "        vertical-align: top;\n",
       "    }\n",
       "\n",
       "    .dataframe thead th {\n",
       "        text-align: right;\n",
       "    }\n",
       "</style>\n",
       "<table border=\"1\" class=\"dataframe\">\n",
       "  <thead>\n",
       "    <tr style=\"text-align: right;\">\n",
       "      <th></th>\n",
       "      <th>1</th>\n",
       "      <th>2</th>\n",
       "      <th>3</th>\n",
       "      <th>4</th>\n",
       "      <th>5</th>\n",
       "    </tr>\n",
       "  </thead>\n",
       "  <tbody>\n",
       "    <tr>\n",
       "      <th>1</th>\n",
       "      <td>0.52</td>\n",
       "      <td>0.24</td>\n",
       "      <td>0.13</td>\n",
       "      <td>0.07</td>\n",
       "      <td>0.04</td>\n",
       "    </tr>\n",
       "    <tr>\n",
       "      <th>2</th>\n",
       "      <td>0.25</td>\n",
       "      <td>0.30</td>\n",
       "      <td>0.22</td>\n",
       "      <td>0.15</td>\n",
       "      <td>0.08</td>\n",
       "    </tr>\n",
       "    <tr>\n",
       "      <th>3</th>\n",
       "      <td>0.15</td>\n",
       "      <td>0.25</td>\n",
       "      <td>0.23</td>\n",
       "      <td>0.22</td>\n",
       "      <td>0.15</td>\n",
       "    </tr>\n",
       "    <tr>\n",
       "      <th>4</th>\n",
       "      <td>0.10</td>\n",
       "      <td>0.18</td>\n",
       "      <td>0.26</td>\n",
       "      <td>0.26</td>\n",
       "      <td>0.20</td>\n",
       "    </tr>\n",
       "    <tr>\n",
       "      <th>5</th>\n",
       "      <td>0.07</td>\n",
       "      <td>0.13</td>\n",
       "      <td>0.21</td>\n",
       "      <td>0.27</td>\n",
       "      <td>0.31</td>\n",
       "    </tr>\n",
       "  </tbody>\n",
       "</table>\n",
       "</div>"
      ],
      "text/plain": [
       "      1     2     3     4     5\n",
       "1  0.52  0.24  0.13  0.07  0.04\n",
       "2  0.25  0.30  0.22  0.15  0.08\n",
       "3  0.15  0.25  0.23  0.22  0.15\n",
       "4  0.10  0.18  0.26  0.26  0.20\n",
       "5  0.07  0.13  0.21  0.27  0.31"
      ]
     },
     "execution_count": 288,
     "metadata": {},
     "output_type": "execute_result"
    }
   ],
   "source": [
    "cr_df"
   ]
  },
  {
   "cell_type": "code",
   "execution_count": 374,
   "metadata": {},
   "outputs": [
    {
     "data": {
      "text/plain": [
       "{(1, 4): Text(226.5, 148.5, '0.07'),\n",
       " (1, 5): Text(155.0, 105.0, '0.04'),\n",
       " (4, 4): Text(282.0, 105.0, '0.26'),\n",
       " (4, 5): Text(210.5, 61.5, '0.2'),\n",
       " (2, 4): Text(268.0, 148.5, '0.15'),\n",
       " (2, 5): Text(196.5, 105.0, '0.08'),\n",
       " (3, 4): Text(307.0, 148.5, '0.22'),\n",
       " (3, 5): Text(235.5, 105.0, '0.15'),\n",
       " (5, 4): Text(210.5, 61.5, '0.27'),\n",
       " (5, 5): Text(139.0, 18.0, '0.31')}"
      ]
     },
     "execution_count": 374,
     "metadata": {},
     "output_type": "execute_result"
    },
    {
     "data": {
      "image/png": "[encoded data removed]",
      "text/plain": [
       "<Figure size 864x432 with 1 Axes>"
      ]
     },
     "metadata": {},
     "output_type": "display_data"
    }
   ],
   "source": [
    "# create graph object\n",
    "G = nx.MultiDiGraph()\n",
    "\n",
    "# nodes correspond to states\n",
    "G.add_nodes_from(state_space)\n",
    "#print(f'Nodes:\\n{G.nodes()}\\n')\n",
    "\n",
    "# edges represent transition probabilities\n",
    "for k, v in edges_wts.items():\n",
    "    tmp_origin, tmp_destination = k[0], k[1]\n",
    "    G.add_edge(tmp_origin, tmp_destination, weight=v, label=v)\n",
    "#print(f'Edges:')\n",
    "#pprint(G.edges(data=True))    \n",
    "\n",
    "pos = nx.drawing.nx_pydot.graphviz_layout(G, prog='dot')\n",
    "f, ax = plt.subplots(figsize=(12,6))\n",
    "nx.draw_networkx(G, pos, ax=ax)\n",
    "\n",
    "# create edge labels for jupyter plot but is not necessary\n",
    "edge_labels = {(n1,n2):d['label'] for n1,n2,d in G.edges(data=True)}\n",
    "\n",
    "nx.draw_networkx_edge_labels(G , pos, edge_labels=edge_labels, rotate=True, font_size=12)\n",
    "#nx.drawing.nx_pydot.write_dot(G, 'pet_dog_markov.dot')"
   ]
  },
  {
   "cell_type": "code",
   "execution_count": 377,
   "metadata": {},
   "outputs": [],
   "source": [
    "import pandas as pd\n",
    "import pandas_datareader.data as web\n",
    "import sklearn.mixture as mix\n",
    "\n",
    "import numpy as np\n",
    "import scipy.stats as scs\n",
    "\n",
    "import matplotlib as mpl\n",
    "from matplotlib import cm\n",
    "import matplotlib.pyplot as plt\n",
    "from matplotlib.dates import YearLocator, MonthLocator\n",
    "%matplotlib inline\n",
    "\n",
    "import seaborn as sns\n",
    "import missingno as msno\n",
    "from tqdm import tqdm\n",
    "p=print\n"
   ]
  },
  {
   "cell_type": "code",
   "execution_count": 376,
   "metadata": {},
   "outputs": [
    {
     "name": "stdout",
     "output_type": "stream",
     "text": [
      "Collecting missingno\n",
      "  Downloading missingno-0.4.2-py3-none-any.whl (9.7 kB)\n",
      "Requirement already satisfied: seaborn in /home/max/anaconda3/lib/python3.7/site-packages (from missingno) (0.10.0)\n",
      "Requirement already satisfied: numpy in /home/max/anaconda3/lib/python3.7/site-packages (from missingno) (1.18.1)\n",
      "Requirement already satisfied: matplotlib in /home/max/anaconda3/lib/python3.7/site-packages (from missingno) (3.1.3)\n",
      "Requirement already satisfied: scipy in /home/max/anaconda3/lib/python3.7/site-packages (from missingno) (1.4.1)\n",
      "Requirement already satisfied: pandas>=0.22.0 in /home/max/anaconda3/lib/python3.7/site-packages (from seaborn->missingno) (1.0.1)\n",
      "Requirement already satisfied: kiwisolver>=1.0.1 in /home/max/anaconda3/lib/python3.7/site-packages (from matplotlib->missingno) (1.1.0)\n",
      "Requirement already satisfied: pyparsing!=2.0.4,!=2.1.2,!=2.1.6,>=2.0.1 in /home/max/anaconda3/lib/python3.7/site-packages (from matplotlib->missingno) (2.4.6)\n",
      "Requirement already satisfied: cycler>=0.10 in /home/max/anaconda3/lib/python3.7/site-packages (from matplotlib->missingno) (0.10.0)\n",
      "Requirement already satisfied: python-dateutil>=2.1 in /home/max/anaconda3/lib/python3.7/site-packages (from matplotlib->missingno) (2.8.1)\n",
      "Requirement already satisfied: pytz>=2017.2 in /home/max/anaconda3/lib/python3.7/site-packages (from pandas>=0.22.0->seaborn->missingno) (2019.3)\n",
      "Requirement already satisfied: setuptools in /home/max/anaconda3/lib/python3.7/site-packages (from kiwisolver>=1.0.1->matplotlib->missingno) (45.2.0.post20200210)\n",
      "Requirement already satisfied: six in /home/max/anaconda3/lib/python3.7/site-packages (from cycler>=0.10->matplotlib->missingno) (1.14.0)\n",
      "Installing collected packages: missingno\n",
      "Successfully installed missingno-0.4.2\n"
     ]
    }
   ],
   "source": []
  }
 ],
 "metadata": {
  "kernelspec": {
   "display_name": "Python 3",
   "language": "python",
   "name": "python3"
  },
  "language_info": {
   "codemirror_mode": {
    "name": "ipython",
    "version": 3
   },
   "file_extension": ".py",
   "mimetype": "text/x-python",
   "name": "python",
   "nbconvert_exporter": "python",
   "pygments_lexer": "ipython3",
   "version": "3.7.6"
  }
 },
 "nbformat": 4,
 "nbformat_minor": 4
}
