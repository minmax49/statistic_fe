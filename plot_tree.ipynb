{
 "cells": [
  {
   "cell_type": "code",
   "execution_count": 1,
   "metadata": {},
   "outputs": [],
   "source": [
    "import numpy as np\n",
    "import pandas as pd\n",
    "import seaborn as sns\n",
    "import matplotlib.pyplot as plt \n",
    "import warnings\n",
    "warnings.filterwarnings('ignore')"
   ]
  },
  {
   "cell_type": "markdown",
   "metadata": {},
   "source": [
    "https://github.com/parrt/dtreeviz/blob/master/notebooks/colors.ipynb"
   ]
  },
  {
   "cell_type": "code",
   "execution_count": 2,
   "metadata": {},
   "outputs": [
    {
     "data": {
      "text/html": [
       "<div>\n",
       "<style scoped>\n",
       "    .dataframe tbody tr th:only-of-type {\n",
       "        vertical-align: middle;\n",
       "    }\n",
       "\n",
       "    .dataframe tbody tr th {\n",
       "        vertical-align: top;\n",
       "    }\n",
       "\n",
       "    .dataframe thead th {\n",
       "        text-align: right;\n",
       "    }\n",
       "</style>\n",
       "<table border=\"1\" class=\"dataframe\">\n",
       "  <thead>\n",
       "    <tr style=\"text-align: right;\">\n",
       "      <th></th>\n",
       "      <th>MONTH</th>\n",
       "      <th>UNIT_CODE_DESC</th>\n",
       "      <th>QUINTILE</th>\n",
       "    </tr>\n",
       "  </thead>\n",
       "  <tbody>\n",
       "    <tr>\n",
       "      <th>0</th>\n",
       "      <td>2019/05</td>\n",
       "      <td>EF00101-EF00101-Nguyễn Văn Quân</td>\n",
       "      <td>5.0</td>\n",
       "    </tr>\n",
       "    <tr>\n",
       "      <th>1</th>\n",
       "      <td>2019/05</td>\n",
       "      <td>FC0036-FC0036 - Lê Ngọc Duy</td>\n",
       "      <td>4.0</td>\n",
       "    </tr>\n",
       "    <tr>\n",
       "      <th>2</th>\n",
       "      <td>2019/05</td>\n",
       "      <td>FC0337-FC0337-Từ Kiện Tuấn</td>\n",
       "      <td>3.0</td>\n",
       "    </tr>\n",
       "    <tr>\n",
       "      <th>3</th>\n",
       "      <td>2019/05</td>\n",
       "      <td>FC0211-FC0211-Nguyễn Hải Đăng</td>\n",
       "      <td>NaN</td>\n",
       "    </tr>\n",
       "    <tr>\n",
       "      <th>4</th>\n",
       "      <td>2019/05</td>\n",
       "      <td>FC0295-FC0295-Nguyễn Duy Linh</td>\n",
       "      <td>4.0</td>\n",
       "    </tr>\n",
       "  </tbody>\n",
       "</table>\n",
       "</div>"
      ],
      "text/plain": [
       "     MONTH                   UNIT_CODE_DESC  QUINTILE\n",
       "0  2019/05  EF00101-EF00101-Nguyễn Văn Quân       5.0\n",
       "1  2019/05      FC0036-FC0036 - Lê Ngọc Duy       4.0\n",
       "2  2019/05       FC0337-FC0337-Từ Kiện Tuấn       3.0\n",
       "3  2019/05    FC0211-FC0211-Nguyễn Hải Đăng       NaN\n",
       "4  2019/05    FC0295-FC0295-Nguyễn Duy Linh       4.0"
      ]
     },
     "execution_count": 2,
     "metadata": {},
     "output_type": "execute_result"
    }
   ],
   "source": [
    "df = pd.read_csv('data_q.csv')\n",
    "df.head()"
   ]
  },
  {
   "cell_type": "code",
   "execution_count": 218,
   "metadata": {},
   "outputs": [
    {
     "name": "stdout",
     "output_type": "stream",
     "text": [
      "['2019/05' '2019/06' '2019/07' '2019/08' '2019/09']\n",
      "['2019/06' '2019/07' '2019/08' '2019/09' '2019/10']\n",
      "['2019/07' '2019/08' '2019/09' '2019/10' '2019/11']\n",
      "['2019/08' '2019/09' '2019/10' '2019/11' '2019/12']\n",
      "['2019/09' '2019/10' '2019/11' '2019/12' '2020/01']\n",
      "['2019/10' '2019/11' '2019/12' '2020/01' '2020/02']\n",
      "['2019/11' '2019/12' '2020/01' '2020/02' '2020/03']\n",
      "['2019/12' '2020/01' '2020/02' '2020/03' '2020/04']\n"
     ]
    },
    {
     "data": {
      "text/html": [
       "<div>\n",
       "<style scoped>\n",
       "    .dataframe tbody tr th:only-of-type {\n",
       "        vertical-align: middle;\n",
       "    }\n",
       "\n",
       "    .dataframe tbody tr th {\n",
       "        vertical-align: top;\n",
       "    }\n",
       "\n",
       "    .dataframe thead th {\n",
       "        text-align: right;\n",
       "    }\n",
       "</style>\n",
       "<table border=\"1\" class=\"dataframe\">\n",
       "  <thead>\n",
       "    <tr style=\"text-align: right;\">\n",
       "      <th></th>\n",
       "      <th>QUINTILE_0</th>\n",
       "      <th>QUINTILE_1</th>\n",
       "      <th>QUINTILE_2</th>\n",
       "      <th>QUINTILE_3</th>\n",
       "      <th>QUINTILE_Y</th>\n",
       "    </tr>\n",
       "  </thead>\n",
       "  <tbody>\n",
       "    <tr>\n",
       "      <th>0</th>\n",
       "      <td>2.0</td>\n",
       "      <td>1.0</td>\n",
       "      <td>1.0</td>\n",
       "      <td>2.0</td>\n",
       "      <td>1.0</td>\n",
       "    </tr>\n",
       "    <tr>\n",
       "      <th>1</th>\n",
       "      <td>1.0</td>\n",
       "      <td>1.0</td>\n",
       "      <td>2.0</td>\n",
       "      <td>1.0</td>\n",
       "      <td>1.0</td>\n",
       "    </tr>\n",
       "    <tr>\n",
       "      <th>2</th>\n",
       "      <td>2.0</td>\n",
       "      <td>2.0</td>\n",
       "      <td>1.0</td>\n",
       "      <td>1.0</td>\n",
       "      <td>1.0</td>\n",
       "    </tr>\n",
       "    <tr>\n",
       "      <th>3</th>\n",
       "      <td>2.0</td>\n",
       "      <td>3.0</td>\n",
       "      <td>3.0</td>\n",
       "      <td>1.0</td>\n",
       "      <td>1.0</td>\n",
       "    </tr>\n",
       "    <tr>\n",
       "      <th>4</th>\n",
       "      <td>1.0</td>\n",
       "      <td>1.0</td>\n",
       "      <td>1.0</td>\n",
       "      <td>1.0</td>\n",
       "      <td>1.0</td>\n",
       "    </tr>\n",
       "  </tbody>\n",
       "</table>\n",
       "</div>"
      ],
      "text/plain": [
       "   QUINTILE_0  QUINTILE_1  QUINTILE_2  QUINTILE_3  QUINTILE_Y\n",
       "0         2.0         1.0         1.0         2.0         1.0\n",
       "1         1.0         1.0         2.0         1.0         1.0\n",
       "2         2.0         2.0         1.0         1.0         1.0\n",
       "3         2.0         3.0         3.0         1.0         1.0\n",
       "4         1.0         1.0         1.0         1.0         1.0"
      ]
     },
     "execution_count": 218,
     "metadata": {},
     "output_type": "execute_result"
    }
   ],
   "source": [
    "num_month = 4\n",
    "data = pd.DataFrame()\n",
    "for i in range(num_month, len(df.MONTH.unique())):\n",
    "    months = df.MONTH.unique()[i-num_month:i+1]\n",
    "    print(months)\n",
    "    # check fc exis\n",
    "    months_df = [df[df.MONTH == months[i]]['UNIT_CODE_DESC'].tolist() for i in range(num_month-1)] \n",
    "    for i, x in enumerate(months_df):\n",
    "        if i == 0:\n",
    "            fc_list = list(set(x)) \n",
    "        else: \n",
    "            fc_list = list(set(fc_list) & set(x))\n",
    "\n",
    "    # gen df\n",
    "    for i,month in enumerate(months):\n",
    "        dt_temp = df[(df.MONTH == month) & (df.UNIT_CODE_DESC.isin(fc_list))][['UNIT_CODE_DESC','QUINTILE']]\n",
    "        dt_temp.set_index('UNIT_CODE_DESC', inplace=True)\n",
    "        col_name = f'QUINTILE_{i}' if i < len(months) - 1 else 'QUINTILE_Y'\n",
    "        dt_temp.columns = [col_name]\n",
    "        if i == 0:\n",
    "            df_temp = dt_temp\n",
    "        else:\n",
    "            df_temp = pd.concat([df_temp, dt_temp], axis=1, sort=True)\n",
    "            \n",
    "    data = data.append(df_temp)\n",
    "#data.dropna(inplace=True)\n",
    "data.fillna(6, inplace=True)\n",
    "data.sort_values('QUINTILE_Y', inplace=True)\n",
    "data.reset_index(drop=True, inplace=True)\n",
    "data.head()"
   ]
  },
  {
   "cell_type": "code",
   "execution_count": 221,
   "metadata": {},
   "outputs": [
    {
     "data": {
      "text/plain": [
       "0    9118\n",
       "dtype: int64"
      ]
     },
     "execution_count": 221,
     "metadata": {},
     "output_type": "execute_result"
    }
   ],
   "source": [
    "ys = [0 if yi < 5 else yi for yi in data.QUINTILE_Y.tolist()]\n",
    "data['QUINTILE_Y'] = ys\n",
    "pd.value_counts(ys)"
   ]
  },
  {
   "cell_type": "code",
   "execution_count": 210,
   "metadata": {},
   "outputs": [],
   "source": [
    "from sklearn.model_selection import train_test_split\n",
    "X = data.drop(['QUINTILE_Y'],axis=1).values\n",
    "y = data['QUINTILE_Y'].values\n",
    "X_train, X_test, y_train, y_test = train_test_split(\n",
    "    X, y,\n",
    "    test_size=0.015,\n",
    "    random_state = 15,\n",
    "    stratify = y\n",
    ")"
   ]
  },
  {
   "cell_type": "code",
   "execution_count": 227,
   "metadata": {},
   "outputs": [],
   "source": [
    "from dtreeviz.trees import *\n",
    "from sklearn.datasets import *\n",
    "%config InlineBackend.figure_format = 'png'"
   ]
  },
  {
   "cell_type": "code",
   "execution_count": 230,
   "metadata": {},
   "outputs": [],
   "source": [
    "X = data.drop(['QUINTILE_Y'],axis=1).values\n",
    "y = data['QUINTILE_Y'].values\n",
    "\n",
    "classifier = tree.DecisionTreeClassifier(max_depth=4)  # limit depth of tree\n",
    "classifier.fit(X, y)\n",
    "regr = tree.DecisionTreeRegressor(max_depth=2)\n",
    "regr.fit(X, y)\n",
    "\n",
    "viz = dtreeviz(classifier, \n",
    "               X, \n",
    "               y,\n",
    "               target_name='variety',\n",
    "               #orientation ='LR',\n",
    "               feature_names=['t-4','t-3','t-2','t-1'], \n",
    "               class_names=['non_Bad', 'Bad'],\n",
    "              \n",
    "              )  \n",
    "              \n",
    "viz.view() "
   ]
  },
  {
   "cell_type": "code",
   "execution_count": null,
   "metadata": {},
   "outputs": [],
   "source": []
  }
 ],
 "metadata": {
  "kernelspec": {
   "display_name": "Python 3",
   "language": "python",
   "name": "python3"
  },
  "language_info": {
   "codemirror_mode": {
    "name": "ipython",
    "version": 3
   },
   "file_extension": ".py",
   "mimetype": "text/x-python",
   "name": "python",
   "nbconvert_exporter": "python",
   "pygments_lexer": "ipython3",
   "version": "3.7.6"
  }
 },
 "nbformat": 4,
 "nbformat_minor": 4
}
